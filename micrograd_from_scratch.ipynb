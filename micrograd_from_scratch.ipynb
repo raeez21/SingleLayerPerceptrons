{
 "cells": [
  {
   "cell_type": "code",
   "execution_count": 1,
   "id": "0eef1de3-ff1e-4c12-ac38-7d24f3d032c5",
   "metadata": {},
   "outputs": [],
   "source": [
    "import math\n",
    "import numpy as np\n",
    "import matplotlib.pyplot as plt\n",
    "%matplotlib inline"
   ]
  },
  {
   "cell_type": "code",
   "execution_count": 29,
   "id": "ddb5b3ec-b1ea-4645-bb3b-776c888f5b72",
   "metadata": {},
   "outputs": [],
   "source": [
    "def f(x):\n",
    "    return 3*x**2 - 4*x + 5"
   ]
  },
  {
   "cell_type": "code",
   "execution_count": 3,
   "id": "f6fdac56-e970-47db-9330-ff04e35bcbb6",
   "metadata": {},
   "outputs": [
    {
     "data": {
      "text/plain": [
       "20"
      ]
     },
     "execution_count": 3,
     "metadata": {},
     "output_type": "execute_result"
    }
   ],
   "source": [
    "f(3)"
   ]
  },
  {
   "cell_type": "code",
   "execution_count": 25,
   "id": "d4963e1c-0929-4efe-976a-6920dccc3bfa",
   "metadata": {},
   "outputs": [
    {
     "data": {
      "text/plain": [
       "[<matplotlib.lines.Line2D at 0x116ddd7e0>]"
      ]
     },
     "execution_count": 25,
     "metadata": {},
     "output_type": "execute_result"
    },
    {
     "data": {
      "image/png": "[encoded data removed]",
      "text/plain": [
       "<Figure size 640x480 with 1 Axes>"
      ]
     },
     "metadata": {},
     "output_type": "display_data"
    }
   ],
   "source": [
    "xs = np.arange(-5,5,0.25)\n",
    "ys = f(xs) #Numpy arrays vectorizes the fun, so the func applied to the entire elements of the array at once, \n",
    "# instead of looping through elemetns like in normal Python list\n",
    "plt.plot(xs, ys)"
   ]
  },
  {
   "cell_type": "markdown",
   "id": "6b018c7e-0c66-44b3-970f-a48c28ef97c6",
   "metadata": {},
   "source": [
    "## FINDING THE DERIVATIVE USING LIMIT RULE"
   ]
  },
  {
   "cell_type": "code",
   "execution_count": 36,
   "id": "263e4a31-9567-4ab8-9b4b-6f2fda48d909",
   "metadata": {},
   "outputs": [
    {
     "data": {
      "text/plain": [
       "14.00000009255109"
      ]
     },
     "execution_count": 36,
     "metadata": {},
     "output_type": "execute_result"
    }
   ],
   "source": [
    "# if we slightly increase values of x at some point of x by a small number h, \n",
    "# how does the function respond\n",
    "h=0.00000001\n",
    "x = 3.0\n",
    "(f(x+h) - f(x))/h #how much did the func change, when we changed x by a small value\n",
    "# this is the slope at 3"
   ]
  },
  {
   "cell_type": "code",
   "execution_count": 38,
   "id": "c576fd1a-eea9-4ae7-82b7-4375ad0dd600",
   "metadata": {},
   "outputs": [
    {
     "data": {
      "text/plain": [
       "-22.00000039920269"
      ]
     },
     "execution_count": 38,
     "metadata": {},
     "output_type": "execute_result"
    }
   ],
   "source": [
    "# if we slightly increase values of x at some point of x by a small number h, \n",
    "# how does the function respond\n",
    "h=0.00000001\n",
    "x = -3.0\n",
    "(f(x+h) - f(x))/h #how much did the func change, when we changed x by a small value\n",
    "# this is the slope at -3"
   ]
  },
  {
   "cell_type": "code",
   "execution_count": 39,
   "id": "edfbe663-cf2b-49bc-9ccd-e35676777c7c",
   "metadata": {},
   "outputs": [
    {
     "data": {
      "text/plain": [
       "0.0"
      ]
     },
     "execution_count": 39,
     "metadata": {},
     "output_type": "execute_result"
    }
   ],
   "source": [
    "h=0.00000001\n",
    "x = 2/3\n",
    "(f(x+h) - f(x))/h  # at x=2/3 the slope is 0\n",
    "# so this means at this point of x, if slightly increase x the function doesnt repsond, it stays the same"
   ]
  },
  {
   "cell_type": "code",
   "execution_count": 40,
   "id": "bff3671f-a869-4d50-9ae8-d3a9c0be4958",
   "metadata": {},
   "outputs": [
    {
     "name": "stdout",
     "output_type": "stream",
     "text": [
      "4.0\n"
     ]
    }
   ],
   "source": [
    "# derivarive of a func with multiple inputs\n",
    "a = 2.0\n",
    "b = -3.0\n",
    "c = 10.0\n",
    "d = a*b + c\n",
    "print(d)"
   ]
  },
  {
   "cell_type": "code",
   "execution_count": 42,
   "id": "d1de484a-d31f-4429-b940-bc4bd6246b3f",
   "metadata": {},
   "outputs": [
    {
     "name": "stdout",
     "output_type": "stream",
     "text": [
      "d1 4.0\n",
      "d2 3.999699999999999\n",
      "slope -3.000000000010772\n"
     ]
    }
   ],
   "source": [
    "h = 0.0001\n",
    "\n",
    "a = 2.0\n",
    "b = -3.0\n",
    "c = 10.0\n",
    "\n",
    "# derivate of func d wrt input a\n",
    "d1 = a*b + c\n",
    "a += h\n",
    "d2 = a*b + c\n",
    "\n",
    "print('d1',d1)\n",
    "print('d2', d2)\n",
    "print('slope',(d2-d1)/h) \n",
    "# The slope is 3\n",
    "# if you manullay diff a*b+c wrt a we get b and value of b is -3"
   ]
  },
  {
   "cell_type": "code",
   "execution_count": null,
   "id": "3bee67c6-b782-42c3-bb8f-4c04ed0194ed",
   "metadata": {},
   "outputs": [],
   "source": []
  },
  {
   "cell_type": "code",
   "execution_count": 49,
   "id": "d4d33af3-b33d-47d8-b91b-6a487b01a970",
   "metadata": {},
   "outputs": [
    {
     "name": "stdout",
     "output_type": "stream",
     "text": [
      "d1 4.0\n",
      "d2 4.0002\n",
      "slope 2.0000000000042206\n"
     ]
    }
   ],
   "source": [
    "#similarly derivative of func d wrt b\n",
    "a = 2.0\n",
    "b = -3.0\n",
    "c = 10.0\n",
    "d1 = a*b + c\n",
    "b += h\n",
    "d2 = a*b + c\n",
    "\n",
    "print('d1',d1)\n",
    "print('d2', d2)\n",
    "print('slope',(d2-d1)/h) \n",
    "#Slope is 2\n",
    "# diff a*b+c wrt b is a and a is 2"
   ]
  },
  {
   "cell_type": "code",
   "execution_count": 50,
   "id": "208577d6-0967-4d2f-b462-93077bb2f11a",
   "metadata": {},
   "outputs": [
    {
     "name": "stdout",
     "output_type": "stream",
     "text": [
      "d1 4.0\n",
      "d2 4.0001\n",
      "slope 0.9999999999976694\n"
     ]
    }
   ],
   "source": [
    "#similarly derivative of func d wrt b\n",
    "a = 2.0\n",
    "b = -3.0\n",
    "c = 10.0\n",
    "d1 = a*b + c\n",
    "c += h\n",
    "d2 = a*b + c\n",
    "\n",
    "print('d1',d1)\n",
    "print('d2', d2)\n",
    "print('slope',(d2-d1)/h) \n",
    "#Slope is 1\n",
    "# that means func changes by exact amount of what we change to c (i.e h)"
   ]
  },
  {
   "cell_type": "code",
   "execution_count": 26,
   "id": "fba9826b-daef-42c9-8f2e-c02b8c678294",
   "metadata": {},
   "outputs": [
    {
     "data": {
      "image/png": "[encoded data removed]",
      "text/plain": [
       "<Figure size 800x500 with 1 Axes>"
      ]
     },
     "metadata": {},
     "output_type": "display_data"
    }
   ],
   "source": [
    "import numpy as np\n",
    "import matplotlib.pyplot as plt\n",
    "\n",
    "# Function\n",
    "def f(x):\n",
    "    return x**2 - 4*x + 5\n",
    "\n",
    "# Derivative of the function\n",
    "def f_prime(x):\n",
    "    return 2*x - 4\n",
    "\n",
    "# x values\n",
    "xs = np.linspace(0, 5, 100)\n",
    "ys = f(xs)\n",
    "\n",
    "# Point to visualize derivative\n",
    "x0 = 2\n",
    "y0 = f(x0)\n",
    "slope = f_prime(x0)\n",
    "\n",
    "# Equation of tangent line: y = slope*(x - x0) + y0\n",
    "tangent = slope*(xs - x0) + y0\n",
    "\n",
    "# Plot\n",
    "plt.figure(figsize=(8,5))\n",
    "plt.plot(xs, ys, label='f(x) = x^2 - 4x + 5', color='blue')\n",
    "plt.plot(xs, tangent, label=f'Tangent at x={x0}', color='red', linestyle='--')\n",
    "plt.scatter(x0, y0, color='black', zorder=5)\n",
    "plt.text(x0+0.1, y0, f'({x0},{y0})', fontsize=12)\n",
    "plt.title('Function and Tangent Line (Derivative)')\n",
    "plt.xlabel('x')\n",
    "plt.ylabel('f(x)')\n",
    "plt.legend()\n",
    "plt.grid(True)\n",
    "plt.show()\n"
   ]
  },
  {
   "cell_type": "code",
   "execution_count": null,
   "id": "ed111439-71d3-49dd-8bb9-1233e2920f48",
   "metadata": {},
   "outputs": [],
   "source": []
  }
 ],
 "metadata": {
  "kernelspec": {
   "display_name": "Python 3 (ipykernel)",
   "language": "python",
   "name": "python3"
  },
  "language_info": {
   "codemirror_mode": {
    "name": "ipython",
    "version": 3
   },
   "file_extension": ".py",
   "mimetype": "text/x-python",
   "name": "python",
   "nbconvert_exporter": "python",
   "pygments_lexer": "ipython3",
   "version": "3.10.0"
  }
 },
 "nbformat": 4,
 "nbformat_minor": 5
}
